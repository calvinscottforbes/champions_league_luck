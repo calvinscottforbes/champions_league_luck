{
 "cells": [
  {
   "cell_type": "markdown",
   "source": [
    "# Takes downloaded HTML files and converts them to dataframes -> saves to csv.\r\n",
    "# Adds season as a column"
   ],
   "metadata": {}
  },
  {
   "cell_type": "code",
   "execution_count": 1,
   "source": [
    "from bs4 import BeautifulSoup\r\n",
    "import os\r\n",
    "import pandas as pd"
   ],
   "outputs": [],
   "metadata": {}
  },
  {
   "cell_type": "code",
   "execution_count": 2,
   "source": [
    "pagesPath = r'C:\\Users\\calvin\\Documents\\GitHub\\springboard\\champions_league_luck\\data\\raw\\fbref_pages'\r\n",
    "tablesPath = r'C:\\Users\\calvin\\Documents\\GitHub\\springboard\\champions_league_luck\\data\\raw\\fbref_tables'"
   ],
   "outputs": [],
   "metadata": {}
  },
  {
   "cell_type": "code",
   "execution_count": 3,
   "source": [
    "# Takes downloaded HTML files and converts them to dataframes -> saves to csv.\r\n",
    "# adds season as a column\r\n",
    "for page in os.listdir(pagesPath):\r\n",
    "    with open(f'{pagesPath}/{page}', 'r', encoding='utf8') as f:\r\n",
    "        soup = BeautifulSoup(f.read(), 'html.parser')\r\n",
    "        table = pd.read_html(f'{pagesPath}/season_{page[-14:-5]}.html')[0]\r\n",
    "        table['season'] = page[-14:-5]\r\n",
    "        table.to_csv(f'{tablesPath}/season{page[-14:-5]}.csv')"
   ],
   "outputs": [],
   "metadata": {}
  },
  {
   "cell_type": "code",
   "execution_count": null,
   "source": [],
   "outputs": [],
   "metadata": {}
  }
 ],
 "metadata": {
  "kernelspec": {
   "display_name": "Python 3.8.5 64-bit ('base': conda)",
   "name": "python385jvsc74a57bd0c0f75f1efd310c06b45e6388a8879e1d8de77bbaa9d9aee2b54a9e9b22795b97"
  },
  "language_info": {
   "codemirror_mode": {
    "name": "ipython",
    "version": 3
   },
   "file_extension": ".py",
   "mimetype": "text/x-python",
   "name": "python",
   "nbconvert_exporter": "python",
   "pygments_lexer": "ipython3",
   "version": "3.8.5"
  },
  "orig_nbformat": 2
 },
 "nbformat": 4,
 "nbformat_minor": 2
}