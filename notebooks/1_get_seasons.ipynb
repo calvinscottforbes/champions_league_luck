{
 "metadata": {
  "language_info": {
   "codemirror_mode": {
    "name": "ipython",
    "version": 3
   },
   "file_extension": ".py",
   "mimetype": "text/x-python",
   "name": "python",
   "nbconvert_exporter": "python",
   "pygments_lexer": "ipython3",
   "version": "3.8.5"
  },
  "orig_nbformat": 2,
  "kernelspec": {
   "name": "python385jvsc74a57bd0c0f75f1efd310c06b45e6388a8879e1d8de77bbaa9d9aee2b54a9e9b22795b97",
   "display_name": "Python 3.8.5 64-bit ('base': conda)"
  }
 },
 "nbformat": 4,
 "nbformat_minor": 2,
 "cells": [
  {
   "cell_type": "markdown",
   "source": [
    "# Getting the match results for each champions league\r\n",
    "# Getting from fbref.com\r\n",
    "# Saving as HTML"
   ],
   "metadata": {}
  },
  {
   "cell_type": "code",
   "execution_count": 1,
   "source": [
    "import requests\r\n",
    "from bs4 import BeautifulSoup\r\n",
    "import re\r\n",
    "import os"
   ],
   "outputs": [],
   "metadata": {}
  },
  {
   "cell_type": "code",
   "execution_count": 2,
   "source": [
    "# FB Ref page with every Champions league season\r\n",
    "r = requests.get('https://fbref.com/en/comps/8/history/UEFA-Champions-League-Seasons')\r\n",
    "soup = BeautifulSoup(r.text, 'html.parser')\r\n",
    "seasons = soup.find_all('th', {'data-stat': 'season'})"
   ],
   "outputs": [],
   "metadata": {}
  },
  {
   "cell_type": "code",
   "execution_count": 3,
   "source": [
    "links = ['https://fbref.com' + row.a.get('href') for row in seasons[1:]]\r\n",
    "links"
   ],
   "outputs": [
    {
     "output_type": "execute_result",
     "data": {
      "text/plain": [
       "['https://fbref.com/en/comps/8/Champions-League-Stats',\n",
       " 'https://fbref.com/en/comps/8/2900/2019-2020-Champions-League-Stats',\n",
       " 'https://fbref.com/en/comps/8/2102/2018-2019-Champions-League-Stats',\n",
       " 'https://fbref.com/en/comps/8/1656/2017-2018-Champions-League-Stats',\n",
       " 'https://fbref.com/en/comps/8/1551/2016-2017-Champions-League-Stats',\n",
       " 'https://fbref.com/en/comps/8/1555/2015-2016-Champions-League-Stats',\n",
       " 'https://fbref.com/en/comps/8/768/2014-2015-Champions-League-Stats',\n",
       " 'https://fbref.com/en/comps/8/694/2013-2014-Champions-League-Stats',\n",
       " 'https://fbref.com/en/comps/8/628/2012-2013-Champions-League-Stats',\n",
       " 'https://fbref.com/en/comps/8/562/2011-2012-Champions-League-Stats',\n",
       " 'https://fbref.com/en/comps/8/492/2010-2011-Champions-League-Stats',\n",
       " 'https://fbref.com/en/comps/8/426/2009-2010-Champions-League-Stats',\n",
       " 'https://fbref.com/en/comps/8/359/2008-2009-Champions-League-Stats',\n",
       " 'https://fbref.com/en/comps/8/303/2007-2008-Champions-League-Stats',\n",
       " 'https://fbref.com/en/comps/8/249/2006-2007-Champions-League-Stats',\n",
       " 'https://fbref.com/en/comps/8/200/2005-2006-Champions-League-Stats',\n",
       " 'https://fbref.com/en/comps/8/162/2004-2005-Champions-League-Stats',\n",
       " 'https://fbref.com/en/comps/8/128/2003-2004-Champions-League-Stats',\n",
       " 'https://fbref.com/en/comps/8/96/2002-2003-Champions-League-Stats',\n",
       " 'https://fbref.com/en/comps/8/73/2001-2002-Champions-League-Stats',\n",
       " 'https://fbref.com/en/comps/8/54/2000-2001-Champions-League-Stats',\n",
       " 'https://fbref.com/en/comps/8/43/1999-2000-Champions-League-Stats',\n",
       " 'https://fbref.com/en/comps/8/1942/1998-1999-Champions-League-Stats',\n",
       " 'https://fbref.com/en/comps/8/1941/1997-1998-Champions-League-Stats',\n",
       " 'https://fbref.com/en/comps/8/1940/1996-1997-Champions-League-Stats',\n",
       " 'https://fbref.com/en/comps/8/1939/1995-1996-Champions-League-Stats',\n",
       " 'https://fbref.com/en/comps/8/1938/1994-1995-Champions-League-Stats',\n",
       " 'https://fbref.com/en/comps/8/1937/1993-1994-Champions-League-Stats',\n",
       " 'https://fbref.com/en/comps/8/1936/1992-1993-Champions-League-Stats',\n",
       " 'https://fbref.com/en/comps/8/1935/1991-1992-European-Cup-Stats',\n",
       " 'https://fbref.com/en/comps/8/1934/1990-1991-European-Cup-Stats']"
      ]
     },
     "metadata": {},
     "execution_count": 3
    }
   ],
   "metadata": {}
  },
  {
   "cell_type": "code",
   "execution_count": 4,
   "source": [
    "# On each season page, there is a link to where there's a table of every games played\r\n",
    "fixture_links = []\r\n",
    "for link in links:\r\n",
    "    r = requests.get(link)\r\n",
    "    soup = BeautifulSoup(r.text, 'html.parser')\r\n",
    "    fixture_links.append(\r\n",
    "        'https://fbref.com' + soup.find('a', text='Scores & Fixtures').get('href')\r\n",
    "    )\r\n",
    "fixture_links"
   ],
   "outputs": [
    {
     "output_type": "execute_result",
     "data": {
      "text/plain": [
       "['https://fbref.com/en/comps/8/schedule/Champions-League-Scores-and-Fixtures',\n",
       " 'https://fbref.com/en/comps/8/2900/schedule/2019-2020-Champions-League-Scores-and-Fixtures',\n",
       " 'https://fbref.com/en/comps/8/2102/schedule/2018-2019-Champions-League-Scores-and-Fixtures',\n",
       " 'https://fbref.com/en/comps/8/1656/schedule/2017-2018-Champions-League-Scores-and-Fixtures',\n",
       " 'https://fbref.com/en/comps/8/1551/schedule/2016-2017-Champions-League-Scores-and-Fixtures',\n",
       " 'https://fbref.com/en/comps/8/1555/schedule/2015-2016-Champions-League-Scores-and-Fixtures',\n",
       " 'https://fbref.com/en/comps/8/768/schedule/2014-2015-Champions-League-Scores-and-Fixtures',\n",
       " 'https://fbref.com/en/comps/8/694/schedule/2013-2014-Champions-League-Scores-and-Fixtures',\n",
       " 'https://fbref.com/en/comps/8/628/schedule/2012-2013-Champions-League-Scores-and-Fixtures',\n",
       " 'https://fbref.com/en/comps/8/562/schedule/2011-2012-Champions-League-Scores-and-Fixtures',\n",
       " 'https://fbref.com/en/comps/8/492/schedule/2010-2011-Champions-League-Scores-and-Fixtures',\n",
       " 'https://fbref.com/en/comps/8/426/schedule/2009-2010-Champions-League-Scores-and-Fixtures',\n",
       " 'https://fbref.com/en/comps/8/359/schedule/2008-2009-Champions-League-Scores-and-Fixtures',\n",
       " 'https://fbref.com/en/comps/8/303/schedule/2007-2008-Champions-League-Scores-and-Fixtures',\n",
       " 'https://fbref.com/en/comps/8/249/schedule/2006-2007-Champions-League-Scores-and-Fixtures',\n",
       " 'https://fbref.com/en/comps/8/200/schedule/2005-2006-Champions-League-Scores-and-Fixtures',\n",
       " 'https://fbref.com/en/comps/8/162/schedule/2004-2005-Champions-League-Scores-and-Fixtures',\n",
       " 'https://fbref.com/en/comps/8/128/schedule/2003-2004-Champions-League-Scores-and-Fixtures',\n",
       " 'https://fbref.com/en/comps/8/96/schedule/2002-2003-Champions-League-Scores-and-Fixtures',\n",
       " 'https://fbref.com/en/comps/8/73/schedule/2001-2002-Champions-League-Scores-and-Fixtures',\n",
       " 'https://fbref.com/en/comps/8/54/schedule/2000-2001-Champions-League-Scores-and-Fixtures',\n",
       " 'https://fbref.com/en/comps/8/43/schedule/1999-2000-Champions-League-Scores-and-Fixtures',\n",
       " 'https://fbref.com/en/comps/8/1942/schedule/1998-1999-Champions-League-Scores-and-Fixtures',\n",
       " 'https://fbref.com/en/comps/8/1941/schedule/1997-1998-Champions-League-Scores-and-Fixtures',\n",
       " 'https://fbref.com/en/comps/8/1940/schedule/1996-1997-Champions-League-Scores-and-Fixtures',\n",
       " 'https://fbref.com/en/comps/8/1939/schedule/1995-1996-Champions-League-Scores-and-Fixtures',\n",
       " 'https://fbref.com/en/comps/8/1938/schedule/1994-1995-Champions-League-Scores-and-Fixtures',\n",
       " 'https://fbref.com/en/comps/8/1937/schedule/1993-1994-Champions-League-Scores-and-Fixtures',\n",
       " 'https://fbref.com/en/comps/8/1936/schedule/1992-1993-Champions-League-Scores-and-Fixtures',\n",
       " 'https://fbref.com/en/comps/8/1935/schedule/1991-1992-European-Cup-Scores-and-Fixtures',\n",
       " 'https://fbref.com/en/comps/8/1934/schedule/1990-1991-European-Cup-Scores-and-Fixtures']"
      ]
     },
     "metadata": {},
     "execution_count": 4
    }
   ],
   "metadata": {
    "tags": []
   }
  },
  {
   "cell_type": "code",
   "execution_count": 5,
   "source": [
    "reg = re.compile(r'\\d\\d\\d\\d-\\d\\d\\d\\d')\r\n",
    "for i in fixture_links:\r\n",
    "     print(\r\n",
    "        type(\r\n",
    "            re.findall(reg, i)\r\n",
    "        ),\r\n",
    "        not re.findall(reg, i)\r\n",
    "    )\r\n",
    "    "
   ],
   "outputs": [
    {
     "output_type": "stream",
     "name": "stdout",
     "text": [
      "<class 'list'> True\n",
      "<class 'list'> False\n",
      "<class 'list'> False\n",
      "<class 'list'> False\n",
      "<class 'list'> False\n",
      "<class 'list'> False\n",
      "<class 'list'> False\n",
      "<class 'list'> False\n",
      "<class 'list'> False\n",
      "<class 'list'> False\n",
      "<class 'list'> False\n",
      "<class 'list'> False\n",
      "<class 'list'> False\n",
      "<class 'list'> False\n",
      "<class 'list'> False\n",
      "<class 'list'> False\n",
      "<class 'list'> False\n",
      "<class 'list'> False\n",
      "<class 'list'> False\n",
      "<class 'list'> False\n",
      "<class 'list'> False\n",
      "<class 'list'> False\n",
      "<class 'list'> False\n",
      "<class 'list'> False\n",
      "<class 'list'> False\n",
      "<class 'list'> False\n",
      "<class 'list'> False\n",
      "<class 'list'> False\n",
      "<class 'list'> False\n",
      "<class 'list'> False\n",
      "<class 'list'> False\n"
     ]
    }
   ],
   "metadata": {}
  },
  {
   "cell_type": "code",
   "execution_count": 6,
   "source": [
    "# Pulls down HTML of each fixture table page \r\n",
    "season_reg = re.compile(r'\\d\\d\\d\\d-\\d\\d\\d\\d')\r\n",
    "pagesPath = r'C:\\Users\\calvin\\Documents\\GitHub\\springboard\\champions_league_luck\\data\\raw\\fbref_pages'\r\n",
    "for link in fixture_links:\r\n",
    "    search = re.findall(season_reg, link)\r\n",
    "    year = ''\r\n",
    "    if not search:\r\n",
    "        continue\r\n",
    "    else:\r\n",
    "        year = search[0]\r\n",
    "    req = requests.get(link)\r\n",
    "    with open(f'{pagesPath}\\\\season_{year}.html', 'wb') as f:\r\n",
    "        f.write(req.content)"
   ],
   "outputs": [],
   "metadata": {}
  },
  {
   "cell_type": "code",
   "execution_count": null,
   "source": [],
   "outputs": [],
   "metadata": {}
  }
 ]
}